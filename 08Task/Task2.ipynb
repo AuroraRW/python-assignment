{
 "cells": [
  {
   "cell_type": "markdown",
   "metadata": {},
   "source": [
    "### Cyrptography"
   ]
  },
  {
   "cell_type": "markdown",
   "metadata": {},
   "source": [
    "You are asked to implement a cipher encryption and decryption functions. \n",
    "This cipher is a type of substitution cipher in which each letter in the plaintext is 'shifted' a certain number of places down the alphabet. For example, with a shift of 1, A would be replaced by B, B would become C, and so on.\n",
    "\n",
    "Example \n",
    "To pass an encrypted message from one person to another, it is first necessary that both parties have the 'key' for the cipher, so that the sender may encrypt it and the receiver may decrypt it. For the cipher, the key is the number of characters to shift the cipher alphabet.\n",
    "\n",
    "Here is a quick example of the encryption and decryption steps involved with the cipher. The text we will encrypt is 'defend the east wall of the castle', with a shift (key) of 1.\n",
    "\n",
    "plaintext:  defend the east wall of the castle\n",
    "\n",
    "ciphertext: efgfoe uif fbtu xbmm pg uif dbtumf"
   ]
  },
  {
   "cell_type": "markdown",
   "metadata": {},
   "source": [
    "Note 1: FOR IMPLEMENTING SHIFT HERE YOU NEED TO:\n",
    "        1. In encrytption function: Convert every character in plaintext to its ascii values and add  the key. Do not forget to do \"mode 26\". \n",
    "        2. In decrytption function: Convert every character in ciphertext to its ascii values and subtract the key. Do not forget to do \"mode 26\".\n",
    "Please implement the following two functions."
   ]
  },
  {
   "cell_type": "code",
   "execution_count": 1,
   "metadata": {},
   "outputs": [],
   "source": [
    "def encrypt(plaintext,key):\n",
    "    plaintext=plaintext.lower()\n",
    "    word1=list(plaintext)\n",
    "    word2=word1\n",
    "    for i in range(0,len(word1)):\n",
    "        #deal with lower letter\n",
    "        if ord(word1[i])>=ord('a') and ord(word1[i])<=ord('z'):\n",
    "            #see if the letter encoded is out of the interval between 'a' and 'z'\n",
    "            if (ord(word1[i])+(key%26))>ord('z'):\n",
    "                word2[i]=chr(ord(word1[i])+(key%26)-ord('z')-1+ord('a'))\n",
    "            else:\n",
    "                word2[i]=chr(ord(word1[i])+(key%26))\n",
    "                \n",
    "    ciphertext=''.join(word2)        \n",
    "    return ciphertext"
   ]
  },
  {
   "cell_type": "code",
   "execution_count": 6,
   "metadata": {},
   "outputs": [
    {
     "data": {
      "text/plain": [
       "'mabl bl anzx'"
      ]
     },
     "execution_count": 6,
     "metadata": {},
     "output_type": "execute_result"
    }
   ],
   "source": [
    "encrypt('This is huge',19)"
   ]
  },
  {
   "cell_type": "code",
   "execution_count": 7,
   "metadata": {},
   "outputs": [],
   "source": [
    "def decrypt(ciphertext,key):\n",
    "    ciphertext=ciphertext.lower()\n",
    "    word1=list(ciphertext)\n",
    "    word2=word1\n",
    "    for i in range(0,len(word1)):\n",
    "        #deal with lower letter\n",
    "        if ord(word1[i])>=ord('a') and ord(word1[i])<=ord('z'):\n",
    "            #see if the letter decoded is out of the interval between 'a' and 'z'\n",
    "            if (ord(word1[i])-(key%26))<ord('a'):\n",
    "                word2[i]=chr(ord(word1[i])-(key%26)+ord('z')+1-ord('a'))\n",
    "            else:\n",
    "                word2[i]=chr(ord(word1[i])-(key%26))\n",
    "                \n",
    "    plaintext=''.join(word2)\n",
    "    return plaintext"
   ]
  },
  {
   "cell_type": "code",
   "execution_count": 8,
   "metadata": {},
   "outputs": [
    {
     "data": {
      "text/plain": [
       "'this is huge'"
      ]
     },
     "execution_count": 8,
     "metadata": {},
     "output_type": "execute_result"
    }
   ],
   "source": [
    "decrypt('mabl bl anzx',19)"
   ]
  },
  {
   "cell_type": "code",
   "execution_count": null,
   "metadata": {},
   "outputs": [],
   "source": []
  }
 ],
 "metadata": {
  "kernelspec": {
   "display_name": "Python 3",
   "language": "python",
   "name": "python3"
  },
  "language_info": {
   "codemirror_mode": {
    "name": "ipython",
    "version": 3
   },
   "file_extension": ".py",
   "mimetype": "text/x-python",
   "name": "python",
   "nbconvert_exporter": "python",
   "pygments_lexer": "ipython3",
   "version": "3.7.3"
  }
 },
 "nbformat": 4,
 "nbformat_minor": 2
}

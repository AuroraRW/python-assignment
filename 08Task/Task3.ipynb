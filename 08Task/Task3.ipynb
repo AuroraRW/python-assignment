{
 "cells": [
  {
   "cell_type": "markdown",
   "metadata": {},
   "source": [
    "# Credit Card Validator\n",
    "\n",
    "You are validating a credit card number:\n",
    "\n",
    "* It must start with a 4, 5 or 6.  \n",
    "* It must contain exactly 16 digits. \n",
    "* It must only consist of digits 0-9. \n",
    "* It may have digits in groups of 4, separated by one hyphen \"-\". \n",
    "* It must NOT use any other separator like ' ' , '_', etc. \n",
    "* It must NOT have 4 or more consecutive repeated digits.\n",
    "\n",
    "Examples:\n",
    "\n",
    "Valid Credit Card Numbers:\n",
    "\n",
    "* 4253625879615786\n",
    "* 4424424424442444\n",
    "* 5122-2368-7954-3214\n",
    "\n",
    "\n",
    "Invalid Credit Card Numbers\n",
    "\n",
    "* 42536258796157867  *17 digits in card number → Invalid* \n",
    "* 4424444424442444     *Consecutive digits are repeating 4 or more times → Invalid*\n",
    "* 5122-2368-7954 - 3214    *Separators other than '-' are used → Invalid*\n",
    "* 44244x4424442444          *Contains non digit characters → Invalid*\n",
    "* 0525362587961578         *Doesn't start with 4, 5 or 6 → Invalid*\n",
    "\n",
    "### Write a function validate_credit(str) which returns True if it is valid and False if it is not.\n",
    "\n",
    "* validate_credit('4253625879615786') returns True\n",
    "* validate_credit('42536258796157867') returns False"
   ]
  },
  {
   "cell_type": "code",
   "execution_count": 1,
   "metadata": {},
   "outputs": [],
   "source": [
    "import re\n",
    "def validate_credit(str):\n",
    "    if len(str)==19 or len(str)==16:\n",
    "        p=re.compile(r'^[456]\\d{3}[-]?\\d{4}[-]?\\d{4}[-]?\\d{4}')\n",
    "        result=p.findall(str)\n",
    "        if len(result)>0: \n",
    "            return True\n",
    "        else:\n",
    "            return False \n",
    "    else:\n",
    "        return False     "
   ]
  },
  {
   "cell_type": "code",
   "execution_count": 2,
   "metadata": {},
   "outputs": [
    {
     "data": {
      "text/plain": [
       "False"
      ]
     },
     "execution_count": 2,
     "metadata": {},
     "output_type": "execute_result"
    }
   ],
   "source": [
    "validate_credit('4567-6789-34562345')"
   ]
  },
  {
   "cell_type": "code",
   "execution_count": null,
   "metadata": {},
   "outputs": [],
   "source": []
  }
 ],
 "metadata": {
  "kernelspec": {
   "display_name": "Python 3",
   "language": "python",
   "name": "python3"
  },
  "language_info": {
   "codemirror_mode": {
    "name": "ipython",
    "version": 3
   },
   "file_extension": ".py",
   "mimetype": "text/x-python",
   "name": "python",
   "nbconvert_exporter": "python",
   "pygments_lexer": "ipython3",
   "version": "3.7.3"
  }
 },
 "nbformat": 4,
 "nbformat_minor": 2
}
